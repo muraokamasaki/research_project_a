{
 "cells": [
  {
   "cell_type": "code",
   "execution_count": 1,
   "metadata": {},
   "outputs": [],
   "source": [
    "from randomized_tukey_hsd import *"
   ]
  },
  {
   "cell_type": "code",
   "execution_count": 2,
   "metadata": {},
   "outputs": [],
   "source": [
    "def get_system_metrics(fname, metric):\n",
    "    \"\"\"Get a list of a chosen metric for a single system.\"\"\"\n",
    "    if metric == 'NDCG20':\n",
    "        m = 2\n",
    "    elif metric == 'ERR20':\n",
    "        m = 3\n",
    "    else:\n",
    "        raise ValueError('Only `NDCG20` or `ERR20` can be used.')\n",
    "    \n",
    "    res = []\n",
    "    with open(fname) as f:\n",
    "        i = 0\n",
    "        for line in f:\n",
    "            i += 1\n",
    "            if i == 1:\n",
    "                continue\n",
    "            elif i == 52:\n",
    "                break\n",
    "            spl = line.split(',')\n",
    "            res.append(float(spl[m].strip()))\n",
    "            \n",
    "    assert len(res) == 50\n",
    "    return res"
   ]
  },
  {
   "cell_type": "code",
   "execution_count": 3,
   "metadata": {},
   "outputs": [],
   "source": [
    "def create_system_matrix(*arr):\n",
    "    \"\"\"Create a topic-by-run matrix.\"\"\"\n",
    "    return list(map(list, zip(*arr)))"
   ]
  },
  {
   "cell_type": "markdown",
   "metadata": {},
   "source": [
    "We compare 5 systems in this example.\n",
    "1. `bm25new`: standard BM25 with `k1=1.6` and `b=0.2`.\n",
    "2. `bm25def`: standard BM25 with `k1=0.9` and `b=0.4`.\n",
    "3. `bm25rm3`: BM25+RM3 reranking with `k1=1.2` and `b=0.3`, and `fbt=1`, `fbd=10` and `w=0.9`.\n",
    "4. `bm25rm3def`: BM25+RM3 reranking with `k1=0.9` and `b=0.4`, and `fbt=10`, `fbd=10` and `w=0.5`.\n",
    "5. `bm25prf`: BM25PRF with `k1=1.2` and `b=0.3`, and `fbt=5`, `fbd=10`, `w=0.2`, `k1=1.2` and `b=0.3`."
   ]
  },
  {
   "cell_type": "code",
   "execution_count": 4,
   "metadata": {},
   "outputs": [],
   "source": [
    "bm25new = get_system_metrics('../results/bm25var/output/res_k1.6_b0.2_251-300.txt', 'NDCG20')\n",
    "bm25def = get_system_metrics('../results/bm25var/output/res_k0.9_b0.4_251-300.txt', 'NDCG20')\n",
    "bm25rm3 = get_system_metrics('../results/bm25rm3/output/res_k1.2_b0.3_fbt1_fbd10_w0.9_251-300.txt', 'NDCG20')\n",
    "bm25rm3def = get_system_metrics('../results/bm25rm3/output/res_k0.9_b0.4_fbt10_fbd10_w0.5_251-300.txt', 'NDCG20')\n",
    "bm25prf = get_system_metrics('../results/bm25prf/output/res_k1.2_b0.3_fbt5_fbd10_w0.2_251-300.txt', 'NDCG20')"
   ]
  },
  {
   "cell_type": "code",
   "execution_count": 5,
   "metadata": {},
   "outputs": [],
   "source": [
    "sys_mat = create_system_matrix(bm25new, bm25def, bm25rm3, bm25rm3def, bm25prf)"
   ]
  },
  {
   "cell_type": "code",
   "execution_count": 6,
   "metadata": {},
   "outputs": [],
   "source": [
    "p_vals = randomized_tukey_hsd(sys_mat, 5000)"
   ]
  },
  {
   "cell_type": "code",
   "execution_count": 7,
   "metadata": {},
   "outputs": [
    {
     "name": "stdout",
     "output_type": "stream",
     "text": [
      "Systems (1, 2): p value 0.9834\n",
      "Systems (1, 3): p value 1.0\n",
      "Systems (1, 4): p value 0.229\n",
      "Systems (1, 5): p value 0.0026\n",
      "Systems (2, 3): p value 0.989\n",
      "Systems (2, 4): p value 0.532\n",
      "Systems (2, 5): p value 0.0262\n",
      "Systems (3, 4): p value 0.2516\n",
      "Systems (3, 5): p value 0.0034\n",
      "Systems (4, 5): p value 0.6532\n"
     ]
    }
   ],
   "source": [
    "print_p_vals(p_vals)"
   ]
  },
  {
   "cell_type": "markdown",
   "metadata": {},
   "source": [
    "Thus there is significant difference (`alpha=0.05`) between (1,5), (2,5), (3,5), which are:\n",
    "\n",
    "- bm25new - bm25prf\n",
    "- bm25def - bm25prf\n",
    "- bm25rm3 - bm25prf"
   ]
  },
  {
   "cell_type": "code",
   "execution_count": null,
   "metadata": {},
   "outputs": [],
   "source": []
  }
 ],
 "metadata": {
  "kernelspec": {
   "display_name": "Python 3",
   "language": "python",
   "name": "python3"
  },
  "language_info": {
   "codemirror_mode": {
    "name": "ipython",
    "version": 3
   },
   "file_extension": ".py",
   "mimetype": "text/x-python",
   "name": "python",
   "nbconvert_exporter": "python",
   "pygments_lexer": "ipython3",
   "version": "3.6.7"
  }
 },
 "nbformat": 4,
 "nbformat_minor": 2
}
